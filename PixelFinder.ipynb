{
 "cells": [
  {
   "cell_type": "markdown",
   "metadata": {},
   "source": [
    "# Image Processing"
   ]
  },
  {
   "cell_type": "code",
   "execution_count": 1,
   "metadata": {},
   "outputs": [],
   "source": [
    "import numpy as np\n",
    "import torch, torchvision\n",
    "from torch.utils.data import Dataset, DataLoader\n",
    "import torch.nn as nn\n",
    "import torch.nn.functional as F\n",
    "from functools import partial\n",
    "import matplotlib.pyplot as plt\n",
    "#from random import randrange\n",
    "import cv2 \n",
    "from torchsummary import summary #pip install torchsummary"
   ]
  },
  {
   "cell_type": "markdown",
   "metadata": {},
   "source": [
    "### Image helper ###"
   ]
  },
  {
   "cell_type": "code",
   "execution_count": 2,
   "metadata": {},
   "outputs": [],
   "source": [
    "def image_show(img):\n",
    "    npimg = img.numpy()\n",
    "    plt.imshow(np.transpose(npimg, (2,1,0)))\n",
    "    plt.show()\n",
    "def get_image(i_dim, n_dim, n_pos, n_strength, pos_scale):\n",
    "    image = torch.zeros((3, i_dim,i_dim), requires_grad=False)\n",
    "    if isinstance(n_pos, torch.Tensor):\n",
    "        #n_pos *= pos_scale\n",
    "        i_n_pos = torch.clamp(torch.round(n_pos * pos_scale).type(torch.int), min=0, max=i_dim-n_dim)\n",
    "    else:\n",
    "        i_n_pos = np.round(n_pos * pos_scale).astype(int).clip(0,i_dim-n_dim)\n",
    "    #print(i_n_pos)\n",
    "    for c in range(3): #to get it equal over all chanels \n",
    "        image[c, i_n_pos[0].item():(i_n_pos[0].item() + n_dim),i_n_pos[1].item():(i_n_pos[1].item()+n_dim)] = n_strength\n",
    "    return image\n",
    "def net_show(input_label, n_pos, n_strength=torch.ones((3,3)), pos_scale=62):\n",
    "    with torch.no_grad():\n",
    "        for i in range(len(n_pos)):\n",
    "            #get the guess\n",
    "            npn_pos = n_pos[i].numpy()\n",
    "            image = get_image(i_dim, n_dim, npn_pos, n_strength, pos_scale)\n",
    "            image[1:3,:,:] = 0.0 #make the guess red\n",
    "            #get the correct image\n",
    "            label = input_label[i].numpy()\n",
    "            npn_image = get_image(i_dim, n_dim, label, n_strength, pos_scale)\n",
    "            #add them (clip) and show\n",
    "            image = np.maximum(image, npn_image)\n",
    "            image_show(image)\n",
    "            #write information\n",
    "            coord_l = np.round(label * pos_scale)\n",
    "            coord_n = np.round(npn_pos * pos_scale)\n",
    "            print(f\"Loss: {loss_fn(input_label[i], n_pos[i])}, x_l = {coord_l[0]}, y_l = {coord_l[1]}, x_t = {coord_n[0]}, y_t = {coord_n[1]}.\")"
   ]
  },
  {
   "cell_type": "markdown",
   "metadata": {},
   "source": [
    "### Dataset helper"
   ]
  },
  {
   "cell_type": "code",
   "execution_count": 3,
   "metadata": {},
   "outputs": [],
   "source": [
    "i_dim = 32\n",
    "n_dim = 3\n",
    "batch_size = 25\n",
    "dataset_parameter = {\n",
    "    \"train\": (\"./pixel_finder_train_data.pth\", 2000), \n",
    "    \"test\": (\"./pixel_finder_test_data.pth\", 500),\n",
    "    \"validate\": (\"./pixel_finder_validate_data.pth\",500)}\n"
   ]
  },
  {
   "cell_type": "code",
   "execution_count": 4,
   "metadata": {},
   "outputs": [],
   "source": [
    "class ImagePositionDataset(Dataset):\n",
    "    def __init__(self, i_dim, n_dim, sample_size, path=\"\"):\n",
    "        self.i_dim = i_dim\n",
    "        self.n_dim = n_dim\n",
    "        self.pos_scale = i_dim-n_dim #changed from -1, because of rounding\n",
    "        if path != \"\": #load the data\n",
    "            self.load(path, i_dim, n_dim)\n",
    "            assert sample_size == self.sample_size\n",
    "        else: #create new data\n",
    "            self.sample_size = sample_size\n",
    "            self.data = []\n",
    "            for i in range(sample_size):\n",
    "                n_pos = torch.flatten(torch.rand((1,2)))\n",
    "                n_strength = torch.rand((3,3))#np.random.rand(n_dim, n_dim) #one chanel\n",
    "                n_pos *= self.pos_scale\n",
    "                n_pos = torch.clamp(torch.round(n_pos),min=0,max=i_dim-n_dim)\n",
    "                n_pos /= self.pos_scale\n",
    "                self.data.append((n_pos, n_strength))\n",
    "        \n",
    "    def __len__(self):\n",
    "        return self.sample_size\n",
    "    \n",
    "    def __getitem__(self, idx):\n",
    "        sample = (get_image(i_dim, n_dim, self.data[idx][0], self.data[idx][1], self.pos_scale), self.data[idx][0], self.pos_scale)\n",
    "        return sample\n",
    "    \n",
    "    def save(self, path):\n",
    "        torch.save(self.data, path)\n",
    "        \n",
    "    def load(self, path, i_dim, n_dim):\n",
    "        self.data = torch.load(path)\n",
    "        self.sample_size = len(self.data)\n",
    "        \n",
    "        \n"
   ]
  },
  {
   "cell_type": "markdown",
   "metadata": {},
   "source": [
    "### Create Dataset"
   ]
  },
  {
   "cell_type": "code",
   "execution_count": 14,
   "metadata": {},
   "outputs": [],
   "source": [
    "#new dataset\n",
    "dataset = {}\n",
    "dataloader = {}\n",
    "for name, parameter in dataset_parameter.items():\n",
    "    dataset[name] = ImagePositionDataset(i_dim, n_dim, parameter[1])\n",
    "    dataset[name].save(parameter[0])\n",
    "    dataloader[name] = DataLoader(dataset[name], batch_size=batch_size,\n",
    "                        shuffle=True, num_workers=0)\n"
   ]
  },
  {
   "cell_type": "markdown",
   "metadata": {},
   "source": [
    "### Load Dataset"
   ]
  },
  {
   "cell_type": "code",
   "execution_count": 47,
   "metadata": {},
   "outputs": [],
   "source": [
    "dataset = {}\n",
    "dataloader = {}\n",
    "for name, parameter in dataset_parameter.items():\n",
    "    dataset[name] = ImagePositionDataset(i_dim, n_dim, parameter[1], path=parameter[0])\n",
    "    dataloader[name] = DataLoader(dataset[name], batch_size=batch_size,\n",
    "                        shuffle=True, num_workers=0)"
   ]
  },
  {
   "cell_type": "markdown",
   "metadata": {},
   "source": [
    "### Test Dataset"
   ]
  },
  {
   "cell_type": "code",
   "execution_count": 40,
   "metadata": {},
   "outputs": [
    {
     "data": {
      "image/png": "[encoded data removed]",
      "text/plain": [
       "<Figure size 432x288 with 1 Axes>"
      ]
     },
     "metadata": {
      "needs_background": "light"
     },
     "output_type": "display_data"
    }
   ],
   "source": [
    "dataiter = iter(dataloader[\"train\"])\n",
    "images, labels, scales = dataiter.next()\n",
    "image_show(torchvision.utils.make_grid(images))"
   ]
  },
  {
   "cell_type": "code",
   "execution_count": 64,
   "metadata": {},
   "outputs": [
    {
     "data": {
      "image/png": "[encoded data removed]",
      "text/plain": [
       "<Figure size 432x288 with 1 Axes>"
      ]
     },
     "metadata": {
      "needs_background": "light"
     },
     "output_type": "display_data"
    }
   ],
   "source": [
    "image,_,_ = dataset[\"validate\"][0]\n",
    "image_show(image)"
   ]
  },
  {
   "cell_type": "markdown",
   "metadata": {},
   "source": [
    "### Test net on selected data"
   ]
  },
  {
   "cell_type": "code",
   "execution_count": 45,
   "metadata": {},
   "outputs": [
    {
     "data": {
      "image/png": "[encoded data removed]",
      "text/plain": [
       "<Figure size 432x288 with 1 Axes>"
      ]
     },
     "metadata": {
      "needs_background": "light"
     },
     "output_type": "display_data"
    },
    {
     "name": "stdout",
     "output_type": "stream",
     "text": [
      "Loss: 2.1274898244882934e-05, x_l = 9.0, y_l = 5.0, x_t = 9.0, y_t = 5.0.\n"
     ]
    },
    {
     "data": {
      "image/png": "[encoded data removed]",
      "text/plain": [
       "<Figure size 432x288 with 1 Axes>"
      ]
     },
     "metadata": {
      "needs_background": "light"
     },
     "output_type": "display_data"
    },
    {
     "name": "stdout",
     "output_type": "stream",
     "text": [
      "Loss: 0.00043316534720361233, x_l = 17.0, y_l = 5.0, x_t = 17.0, y_t = 6.0.\n"
     ]
    },
    {
     "data": {
      "image/png": "[encoded data removed]",
      "text/plain": [
       "<Figure size 432x288 with 1 Axes>"
      ]
     },
     "metadata": {
      "needs_background": "light"
     },
     "output_type": "display_data"
    },
    {
     "name": "stdout",
     "output_type": "stream",
     "text": [
      "Loss: 0.0016078108455985785, x_l = 24.0, y_l = 8.0, x_t = 25.0, y_t = 7.0.\n"
     ]
    },
    {
     "data": {
      "image/png": "[encoded data removed]",
      "text/plain": [
       "<Figure size 432x288 with 1 Axes>"
      ]
     },
     "metadata": {
      "needs_background": "light"
     },
     "output_type": "display_data"
    },
    {
     "name": "stdout",
     "output_type": "stream",
     "text": [
      "Loss: 0.0003879474534187466, x_l = 13.0, y_l = 18.0, x_t = 13.0, y_t = 17.0.\n"
     ]
    },
    {
     "data": {
      "image/png": "[encoded data removed]",
      "text/plain": [
       "<Figure size 432x288 with 1 Axes>"
      ]
     },
     "metadata": {
      "needs_background": "light"
     },
     "output_type": "display_data"
    },
    {
     "name": "stdout",
     "output_type": "stream",
     "text": [
      "Loss: 0.0010472536087036133, x_l = 21.0, y_l = 18.0, x_t = 22.0, y_t = 18.0.\n"
     ]
    },
    {
     "data": {
      "image/png": "[encoded data removed]",
      "text/plain": [
       "<Figure size 432x288 with 1 Axes>"
      ]
     },
     "metadata": {
      "needs_background": "light"
     },
     "output_type": "display_data"
    },
    {
     "name": "stdout",
     "output_type": "stream",
     "text": [
      "Loss: 0.001345467404462397, x_l = 10.0, y_l = 11.0, x_t = 9.0, y_t = 11.0.\n"
     ]
    },
    {
     "data": {
      "image/png": "[encoded data removed]",
      "text/plain": [
       "<Figure size 432x288 with 1 Axes>"
      ]
     },
     "metadata": {
      "needs_background": "light"
     },
     "output_type": "display_data"
    },
    {
     "name": "stdout",
     "output_type": "stream",
     "text": [
      "Loss: 6.72329479129985e-05, x_l = 16.0, y_l = 28.0, x_t = 16.0, y_t = 28.0.\n"
     ]
    },
    {
     "data": {
      "image/png": "[encoded data removed]",
      "text/plain": [
       "<Figure size 432x288 with 1 Axes>"
      ]
     },
     "metadata": {
      "needs_background": "light"
     },
     "output_type": "display_data"
    },
    {
     "name": "stdout",
     "output_type": "stream",
     "text": [
      "Loss: 0.0011336087482050061, x_l = 17.0, y_l = 15.0, x_t = 18.0, y_t = 16.0.\n"
     ]
    },
    {
     "data": {
      "image/png": "[encoded data removed]",
      "text/plain": [
       "<Figure size 432x288 with 1 Axes>"
      ]
     },
     "metadata": {
      "needs_background": "light"
     },
     "output_type": "display_data"
    },
    {
     "name": "stdout",
     "output_type": "stream",
     "text": [
      "Loss: 0.001357757835648954, x_l = 7.0, y_l = 28.0, x_t = 6.0, y_t = 28.0.\n"
     ]
    },
    {
     "data": {
      "image/png": "[encoded data removed]",
      "text/plain": [
       "<Figure size 432x288 with 1 Axes>"
      ]
     },
     "metadata": {
      "needs_background": "light"
     },
     "output_type": "display_data"
    },
    {
     "name": "stdout",
     "output_type": "stream",
     "text": [
      "Loss: 0.0012721959501504898, x_l = 27.0, y_l = 7.0, x_t = 27.0, y_t = 8.0.\n"
     ]
    },
    {
     "data": {
      "image/png": "[encoded data removed]",
      "text/plain": [
       "<Figure size 432x288 with 1 Axes>"
      ]
     },
     "metadata": {
      "needs_background": "light"
     },
     "output_type": "display_data"
    },
    {
     "name": "stdout",
     "output_type": "stream",
     "text": [
      "Loss: 0.0006049315561540425, x_l = 27.0, y_l = 0.0, x_t = 27.0, y_t = 1.0.\n"
     ]
    },
    {
     "data": {
      "image/png": "[encoded data removed]",
      "text/plain": [
       "<Figure size 432x288 with 1 Axes>"
      ]
     },
     "metadata": {
      "needs_background": "light"
     },
     "output_type": "display_data"
    },
    {
     "name": "stdout",
     "output_type": "stream",
     "text": [
      "Loss: 0.0014368670526891947, x_l = 25.0, y_l = 13.0, x_t = 24.0, y_t = 13.0.\n"
     ]
    }
   ],
   "source": [
    "dataiter = iter(dataloader[\"validate\"])\n",
    "images, labels, scales = dataiter.next()\n",
    "outputs = net[net_choice](images) \n",
    "\n",
    "net_show(labels, outputs,pos_scale=i_dim-n_dim)"
   ]
  },
  {
   "cell_type": "code",
   "execution_count": 74,
   "metadata": {},
   "outputs": [
    {
     "data": {
      "text/plain": [
       "tensor([[25.5487,  6.3102],\n",
       "        [10.4187,  9.8633],\n",
       "        [14.0806, 12.9848],\n",
       "        [ 2.1276, 25.3744]], grad_fn=<MulBackward0>)"
      ]
     },
     "execution_count": 74,
     "metadata": {},
     "output_type": "execute_result"
    }
   ],
   "source": [
    "outputs *(i_dim - n_dim)"
   ]
  },
  {
   "cell_type": "code",
   "execution_count": 16,
   "metadata": {},
   "outputs": [
    {
     "data": {
      "text/plain": [
       "tensor([[17., 23.],\n",
       "        [13., 24.],\n",
       "        [26., 21.],\n",
       "        [ 4., 19.]])"
      ]
     },
     "execution_count": 16,
     "metadata": {},
     "output_type": "execute_result"
    }
   ],
   "source": [
    "labels *(i_dim - n_dim)"
   ]
  },
  {
   "cell_type": "code",
   "execution_count": 73,
   "metadata": {},
   "outputs": [
    {
     "name": "stdout",
     "output_type": "stream",
     "text": [
      "0.005425386596471071\n",
      "0.00017682100587990135\n",
      "0.0004358791629783809\n",
      "0.0004538971115835011\n"
     ]
    }
   ],
   "source": [
    "for i in range(len(outputs)):\n",
    "    print(loss_fn(outputs[i], labels[i]).item())"
   ]
  },
  {
   "cell_type": "code",
   "execution_count": null,
   "metadata": {},
   "outputs": [],
   "source": [
    "image_show(torchvision.utils.make_grid(images))"
   ]
  },
  {
   "cell_type": "code",
   "execution_count": 106,
   "metadata": {},
   "outputs": [
    {
     "data": {
      "text/plain": [
       "tensor([0.9438, 0.6781])"
      ]
     },
     "execution_count": 106,
     "metadata": {},
     "output_type": "execute_result"
    }
   ],
   "source": [
    "labels[0]"
   ]
  },
  {
   "cell_type": "markdown",
   "metadata": {},
   "source": [
    "## Create the net"
   ]
  },
  {
   "cell_type": "code",
   "execution_count": 6,
   "metadata": {},
   "outputs": [],
   "source": [
    "net_path = {}\n",
    "net = {}"
   ]
  },
  {
   "cell_type": "markdown",
   "metadata": {},
   "source": [
    "### Net helper"
   ]
  },
  {
   "cell_type": "code",
   "execution_count": 7,
   "metadata": {},
   "outputs": [],
   "source": [
    "def getNetPath(net_choice, epoch, learnrate, original=False):\n",
    "    if original:\n",
    "        return f\"{net_path[net_choice]}.pth\"\n",
    "    return f\"{net_path[net_choice]}_lr_{learnrate}_ep_{epoch}.pth\" "
   ]
  },
  {
   "cell_type": "markdown",
   "metadata": {},
   "source": [
    "### Convolution ####"
   ]
  },
  {
   "cell_type": "code",
   "execution_count": null,
   "metadata": {},
   "outputs": [],
   "source": [
    "net_path[\"conv\"] = './pixel_finder_conv'"
   ]
  },
  {
   "cell_type": "code",
   "execution_count": null,
   "metadata": {},
   "outputs": [],
   "source": [
    "class Conv2dAuto(nn.Conv2d):\n",
    "    def __init__(self, *args, **kwargs):\n",
    "        super().__init__(*args, **kwargs)\n",
    "        self.padding =  (self.kernel_size[0] // 2, self.kernel_size[1] // 2) # dynamic add padding based on the kernel_size\n",
    "\n",
    "conv3x3 = partial(Conv2dAuto, kernel_size=3, bias=False)\n",
    "\n",
    "def activation_func(activation):\n",
    "    return  nn.ModuleDict([\n",
    "        ['relu', nn.ReLU(inplace=True)],\n",
    "        ['leaky_relu', nn.LeakyReLU(negative_slope=0.01, inplace=True)],\n",
    "        ['selu', nn.SELU(inplace=True)],\n",
    "        ['none', nn.Identity()]\n",
    "    ])[activation]\n",
    "\n",
    "class ResidualBlock(nn.Module):\n",
    "    def __init__(self, in_channels, out_channels, activation='relu'):\n",
    "        super().__init__()\n",
    "        self.in_channels, self.out_channels, self.activation = in_channels, out_channels, activation\n",
    "        self.blocks = nn.Identity()\n",
    "        self.activate = activation_func(activation)\n",
    "        self.shortcut = nn.Identity()   \n",
    "    \n",
    "    def forward(self, x):\n",
    "        residual = x\n",
    "        if self.should_apply_shortcut: residual = self.shortcut(x)\n",
    "        x = self.blocks(x)\n",
    "        x += residual\n",
    "        x = self.activate(x)\n",
    "        return x\n",
    "    \n",
    "    @property\n",
    "    def should_apply_shortcut(self):\n",
    "        return self.in_channels != self.out_channels\n",
    "    \n",
    "class ResNetResidualBlock(ResidualBlock):\n",
    "    def __init__(self, in_channels, out_channels, expansion=1, downsampling=1, conv=conv3x3, *args, **kwargs):\n",
    "        super().__init__(in_channels, out_channels, *args, **kwargs)\n",
    "        self.expansion, self.downsampling, self.conv = expansion, downsampling, conv\n",
    "        self.shortcut = nn.Sequential(\n",
    "            nn.Conv2d(self.in_channels, self.expanded_channels, kernel_size=1,\n",
    "                      stride=self.downsampling, bias=False),\n",
    "            nn.BatchNorm2d(self.expanded_channels)) if self.should_apply_shortcut else None\n",
    "        \n",
    "        \n",
    "    @property\n",
    "    def expanded_channels(self):\n",
    "        return self.out_channels * self.expansion\n",
    "    \n",
    "    @property\n",
    "    def should_apply_shortcut(self):\n",
    "        return self.in_channels != self.expanded_channels\n",
    "    \n",
    "    \n",
    "def conv_bn(in_channels, out_channels, conv, *args, **kwargs):\n",
    "    return nn.Sequential(conv(in_channels, out_channels, *args, **kwargs), nn.BatchNorm2d(out_channels))\n",
    "\n",
    "\n",
    "\n",
    "class ResNetBasicBlock(ResNetResidualBlock):\n",
    "    \"\"\"\n",
    "    Basic ResNet block composed by two layers of 3x3conv/batchnorm/activation\n",
    "    \"\"\"\n",
    "    expansion = 1\n",
    "    def __init__(self, in_channels, out_channels, *args, **kwargs):\n",
    "        super().__init__(in_channels, out_channels, *args, **kwargs)\n",
    "        self.blocks = nn.Sequential(\n",
    "            conv_bn(self.in_channels, self.out_channels, conv=self.conv, bias=False, stride=self.downsampling),\n",
    "            activation_func(self.activation),\n",
    "            conv_bn(self.out_channels, self.expanded_channels, conv=self.conv, bias=False),\n",
    "        )\n",
    "    \n",
    "class ResNetBottleNeckBlock(ResNetResidualBlock):\n",
    "    expansion = 4\n",
    "    def __init__(self, in_channels, out_channels, *args, **kwargs):\n",
    "        super().__init__(in_channels, out_channels, expansion=4, *args, **kwargs)\n",
    "        self.blocks = nn.Sequential(\n",
    "           conv_bn(self.in_channels, self.out_channels, self.conv, kernel_size=1),\n",
    "             activation_func(self.activation),\n",
    "             conv_bn(self.out_channels, self.out_channels, self.conv, kernel_size=3, stride=self.downsampling),\n",
    "             activation_func(self.activation),\n",
    "             conv_bn(self.out_channels, self.expanded_channels, self.conv, kernel_size=1),\n",
    "        )\n",
    "        \n",
    "class ResNetLayer(nn.Module):\n",
    "    \"\"\"\n",
    "    A ResNet layer composed by `n` blocks stacked one after the other\n",
    "    \"\"\"\n",
    "    def __init__(self, in_channels, out_channels, block=ResNetBasicBlock, n=1, *args, **kwargs):\n",
    "        super().__init__()\n",
    "        # 'We perform downsampling directly by convolutional layers that have a stride of 2.'\n",
    "        downsampling = 2 if in_channels != out_channels else 1\n",
    "        self.blocks = nn.Sequential(\n",
    "            block(in_channels , out_channels, *args, **kwargs, downsampling=downsampling),\n",
    "            *[block(out_channels * block.expansion, \n",
    "                    out_channels, downsampling=1, *args, **kwargs) for _ in range(n - 1)]\n",
    "        )\n",
    "\n",
    "    def forward(self, x):\n",
    "        x = self.blocks(x)\n",
    "        return x\n",
    "    \n",
    "class Net(nn.Module):\n",
    "    def __init__(self):\n",
    "        super(Net, self).__init__()\n",
    "        \n",
    "        self.conv = ResNetLayer(3, 16, block=ResNetBasicBlock, n=2)\n",
    "        self.fc1 = nn.Linear(32*32*16 , 1024)\n",
    "        self.fc2 = nn.Linear(1024,2)\n",
    "        self.sig = nn.Sigmoid()\n",
    "        self.drop_out = nn.Dropout(p=0.2)\n",
    "\n",
    "\n",
    "    def forward(self, x):\n",
    "        out = self.conv(x)\n",
    "        out = out.view(out.size(0), -1)\n",
    "        out = self.fc1(out)\n",
    "        out = F.relu(out)\n",
    "        out = self.fc2(out)\n",
    "        out = self.sig(out)\n",
    "        \n",
    "        return out\n",
    "\n",
    "\n",
    "net[\"conv\"] = Net()"
   ]
  },
  {
   "cell_type": "markdown",
   "metadata": {},
   "source": [
    "### Linear ###"
   ]
  },
  {
   "cell_type": "code",
   "execution_count": 12,
   "metadata": {},
   "outputs": [],
   "source": [
    "net_path[\"linear\"] = './pixel_finder_linear'"
   ]
  },
  {
   "cell_type": "code",
   "execution_count": 13,
   "metadata": {},
   "outputs": [],
   "source": [
    "class LinearNet(nn.Module):\n",
    "    def __init__(self):\n",
    "        super(LinearNet, self).__init__()\n",
    "        self.fc1 = nn.Linear(i_dim*i_dim*3, i_dim*i_dim*3)\n",
    "        self.fc2 = nn.Linear(i_dim*i_dim*3,2)\n",
    "        #self.drop_out = nn.Dropout(p=0.2)\n",
    "\n",
    "\n",
    "    def forward(self, x):\n",
    "        x = x.view(x.size(0),-1)\n",
    "        x = self.fc1(x)\n",
    "        x = F.relu(x)\n",
    "        x = self.fc2(x)\n",
    "        return x\n",
    "\n",
    "\n",
    "net[\"linear\"] = LinearNet()"
   ]
  },
  {
   "cell_type": "markdown",
   "metadata": {},
   "source": [
    "### Linear Sigmoid "
   ]
  },
  {
   "cell_type": "code",
   "execution_count": 8,
   "metadata": {},
   "outputs": [],
   "source": [
    "net_path[\"linearSig\"] = './pixel_finder_linear_sig'"
   ]
  },
  {
   "cell_type": "code",
   "execution_count": 9,
   "metadata": {},
   "outputs": [],
   "source": [
    "class LinearSigNet(nn.Module):\n",
    "    def __init__(self):\n",
    "        super(LinearSigNet, self).__init__()\n",
    "        self.fc1 = nn.Linear(i_dim*i_dim*3, i_dim*i_dim*3)\n",
    "        self.fc2 = nn.Linear(i_dim*i_dim*3,2)\n",
    "        #self.drop_out = nn.Dropout(p=0.2)\n",
    "\n",
    "\n",
    "    def forward(self, x):\n",
    "        x = x.view(x.size(0),-1)\n",
    "        x = self.fc1(x)\n",
    "        x = F.relu(x)\n",
    "        x = self.fc2(x)\n",
    "        return torch.sigmoid(x)\n",
    "\n",
    "\n",
    "net[\"linearSig\"] = LinearSigNet()"
   ]
  },
  {
   "cell_type": "markdown",
   "metadata": {},
   "source": [
    "### Select the net"
   ]
  },
  {
   "cell_type": "code",
   "execution_count": 21,
   "metadata": {},
   "outputs": [],
   "source": [
    "net_choice = \"linearSig\""
   ]
  },
  {
   "cell_type": "markdown",
   "metadata": {},
   "source": [
    "## Train the net"
   ]
  },
  {
   "cell_type": "code",
   "execution_count": 10,
   "metadata": {},
   "outputs": [],
   "source": [
    "hyperparameter = {\n",
    "    \"learnrate\" : (0.0001, 0.00001),\n",
    "    \"epoch\" : (4,)}\n"
   ]
  },
  {
   "cell_type": "markdown",
   "metadata": {},
   "source": [
    "#### Individual tweaks"
   ]
  },
  {
   "cell_type": "code",
   "execution_count": 42,
   "metadata": {},
   "outputs": [],
   "source": [
    "#Hyperparameter\n",
    "learnrate = 0.00001\n",
    "epoch = 2\n",
    "hyperparameter = {\n",
    "    \"learnrate\" : (learnrate,),\n",
    "    \"epoch\" : (epoch,)}\n",
    "\n",
    "net_choice = \"linearSig\"\n",
    "optimizer[learnrate] = torch.optim.Adam(net[net_choice].parameters(), lr=learnrate)"
   ]
  },
  {
   "cell_type": "markdown",
   "metadata": {},
   "source": [
    "### Loss, optimization criterion, optimization algorithm"
   ]
  },
  {
   "cell_type": "code",
   "execution_count": 14,
   "metadata": {},
   "outputs": [],
   "source": [
    "loss_fn = torch.nn.MSELoss(reduction='sum')\n",
    "optimizer = {}\n",
    "metrics = {}\n",
    "for lr in hyperparameter[\"learnrate\"]:\n",
    "    optimizer[lr] = torch.optim.Adam(net[net_choice].parameters(), lr=lr)"
   ]
  },
  {
   "cell_type": "code",
   "execution_count": 86,
   "metadata": {},
   "outputs": [],
   "source": [
    "def score(dataset_name):\n",
    "    net[net_choice].eval()\n",
    "    bias = 0.0\n",
    "    with torch.no_grad():\n",
    "        n_total = 0\n",
    "        for i_batch, sample_batched in enumerate(dataloader[dataset_name]):\n",
    "            inputs, labels, _ = sample_batched\n",
    "\n",
    "            #calculate the output and loss\n",
    "            outputs = net[net_choice](inputs)\n",
    "            loss = loss_fn(outputs, labels)\n",
    "\n",
    "            #track loss\n",
    "            #loss_running += loss.item()\n",
    "            bias += loss.item()\n",
    "            n_total += 1\n",
    "            #if i_batch % running_loss_count == running_loss_count -1:\n",
    "                #print(f\"(Batch {i_batch + 1}): {loss_running/running_loss_count}\")\n",
    "                #metrics[(num_epoch, learnrate, f\"{dataset}_loss\")].append(loss_running)\n",
    "                #loss_running = 0.0\n",
    "        bias /= (n_total * batch_size)\n",
    "        return bias\n",
    "    \n",
    "def binomialScore(dataset_name, normed=True):\n",
    "    net[net_choice].eval()\n",
    "    categories = {}\n",
    "    with torch.no_grad():\n",
    "        for image, label, scale in dataset[dataset_name]:\n",
    "            output = net[net_choice](image.unsqueeze(0)).flatten()\n",
    "            pos_l = np.round(label * scale).type(torch.int)\n",
    "            pos_n = np.round(output * scale).type(torch.int)\n",
    "            delta = torch.sum(torch.abs(pos_l - pos_n)).item()\n",
    "            if delta in categories.keys():\n",
    "                categories[delta] += 1\n",
    "            else:\n",
    "                categories[delta] = 1\n",
    "        if normed:\n",
    "            for key in categories.keys():\n",
    "                categories[key] /= len(dataset[dataset_name])\n",
    "        return categories"
   ]
  },
  {
   "cell_type": "code",
   "execution_count": 75,
   "metadata": {},
   "outputs": [
    {
     "data": {
      "text/plain": [
       "{4: 15, 0: 162, 2: 120, 1: 160, 3: 38, 7: 2, 5: 2, 6: 1}"
      ]
     },
     "execution_count": 75,
     "metadata": {},
     "output_type": "execute_result"
    }
   ],
   "source": [
    "binomialScore(\"test\")"
   ]
  },
  {
   "cell_type": "markdown",
   "metadata": {},
   "source": [
    "### Trainingsloop"
   ]
  },
  {
   "cell_type": "code",
   "execution_count": 48,
   "metadata": {},
   "outputs": [],
   "source": [
    "#output ten times\n",
    "running_loss_count =  int(len(dataset[\"train\"]) / (10 * batch_size)) "
   ]
  },
  {
   "cell_type": "code",
   "execution_count": 49,
   "metadata": {},
   "outputs": [
    {
     "name": "stdout",
     "output_type": "stream",
     "text": [
      "Calculate the net with 2 epochs and a learning rate of 1e-05\n"
     ]
    },
    {
     "name": "stderr",
     "output_type": "stream",
     "text": [
      "D:\\Programme\\Anaconda\\lib\\site-packages\\torch\\autograd\\__init__.py:130: UserWarning: CUDA initialization: Found no NVIDIA driver on your system. Please check that you have an NVIDIA GPU and installed a driver from http://www.nvidia.com/Download/index.aspx (Triggered internally at  ..\\c10\\cuda\\CUDAFunctions.cpp:100.)\n",
      "  Variable._execution_engine.run_backward(\n"
     ]
    },
    {
     "name": "stdout",
     "output_type": "stream",
     "text": [
      "(Epoch 2, batch 8, 175/2000: 0.0002869400195777416\n",
      "(Epoch 2, batch 16, 375/2000: 0.0003260392416268587\n",
      "(Epoch 2, batch 24, 575/2000: 0.00032970433356240393\n",
      "(Epoch 2, batch 32, 775/2000: 0.0002765155164524913\n",
      "(Epoch 2, batch 40, 975/2000: 0.00029745625448413193\n",
      "(Epoch 2, batch 48, 1175/2000: 0.0003329000365920365\n",
      "(Epoch 2, batch 56, 1375/2000: 0.0002393505279906094\n",
      "(Epoch 2, batch 64, 1575/2000: 0.00034661372425034645\n",
      "(Epoch 2, batch 72, 1775/2000: 0.00023652991629205644\n",
      "(Epoch 2, batch 80, 1975/2000: 0.00035037171095609666\n",
      "Validation score: 0.00174086157605052\n",
      "(Epoch 3, batch 8, 175/2000: 0.0002582090860232711\n",
      "(Epoch 3, batch 16, 375/2000: 0.00028090662672184406\n",
      "(Epoch 3, batch 24, 575/2000: 0.0002395750256255269\n",
      "(Epoch 3, batch 32, 775/2000: 0.0002988600730895996\n",
      "(Epoch 3, batch 40, 975/2000: 0.00026450160657987\n",
      "(Epoch 3, batch 48, 1175/2000: 0.0003802917758002877\n",
      "(Epoch 3, batch 56, 1375/2000: 0.000283859051996842\n",
      "(Epoch 3, batch 64, 1575/2000: 0.00026973261730745435\n",
      "(Epoch 3, batch 72, 1775/2000: 0.00031970170326530936\n",
      "(Epoch 3, batch 80, 1975/2000: 0.00032864104956388475\n",
      "Validation score: 0.0017346212342381478\n",
      "Finished Training\n"
     ]
    }
   ],
   "source": [
    "# save starting net\n",
    "torch.save(net[net_choice].state_dict(), getNetPath(net_choice, 0,0, original=True))\n",
    "\n",
    "for num_epoch in hyperparameter[\"epoch\"]:\n",
    "    for learnrate in hyperparameter[\"learnrate\"]:\n",
    "        #load the original net to start from the same parameters\n",
    "        net[net_choice].load_state_dict(torch.load(getNetPath(net_choice, 0,0, original=True)))\n",
    "        net[net_choice].train()\n",
    "        print(f\"Calculate the net with {num_epoch} epochs and a learning rate of {learnrate}\")\n",
    "        for epoch in range(num_epoch):\n",
    "            loss_running = 0.0\n",
    "            metrics[(epoch + current_epoch, learnrate, \"running_loss\")] = []\n",
    "            metrics[(epoch + current_epoch, learnrate, \"validation_loss\")] = []\n",
    "            for i_batch, sample_batched in enumerate(dataloader[\"train\"]):\n",
    "                inputs, labels, _ = sample_batched\n",
    "                \n",
    "                #reset calculated gradients\n",
    "                optimizer[learnrate].zero_grad()\n",
    "                \n",
    "                #calculate the output and loss\n",
    "                outputs = net[net_choice](inputs)\n",
    "                loss = loss_fn(outputs, labels)\n",
    "                \n",
    "                #backpropagate loss and optimize parameter\n",
    "                loss.backward()\n",
    "                optimizer[learnrate].step()\n",
    "                \n",
    "                #track loss\n",
    "                loss_running += loss.item()\n",
    "                if i_batch % running_loss_count == running_loss_count -1:\n",
    "                    print(f\"(Epoch {epoch + 1 + current_epoch}, batch {i_batch + 1}, {i_batch * batch_size}/{len(dataset['train'])}: {loss_running/(batch_size*running_loss_count)}\")\n",
    "                    metrics[(epoch + current_epoch, learnrate, \"running_loss\")].append(loss_running/(batch_size*running_loss_count))\n",
    "                    loss_running = 0.0\n",
    "            #save the trained net after each epoch\n",
    "            torch.save({\"net_state_dict\":net[net_choice].state_dict(),\n",
    "                   \"optimizer_state_dict\":optimizer[learnrate].state_dict(),\n",
    "                   \"epoch\" : epoch,\n",
    "                    \"metrics\" : metrics}, getNetPath(net_choice, epoch + current_epoch,learnrate))\n",
    "            #save also the validation score after each epoch\n",
    "            validation = score(\"validate\")\n",
    "            metrics[(epoch + current_epoch, learnrate, \"validation_loss\")].append(validation)\n",
    "            print(f\"Validation score: {validation}\")\n",
    "        current_epoch += num_epoch\n",
    "print('Finished Training')"
   ]
  },
  {
   "cell_type": "code",
   "execution_count": 27,
   "metadata": {},
   "outputs": [],
   "source": [
    "#Save the net as basis for the next round\n",
    "torch.save(net[net_choice].state_dict(), getNetPath(net_choice, 0,0, original=True))"
   ]
  },
  {
   "cell_type": "markdown",
   "metadata": {},
   "source": [
    "## Load a net"
   ]
  },
  {
   "cell_type": "code",
   "execution_count": 17,
   "metadata": {},
   "outputs": [],
   "source": [
    "#Hyperparameter\n",
    "learnrate = 0.00001\n",
    "epoch = 1\n",
    "hyperparameter = {\n",
    "    \"learnrate\" : (learnrate,),\n",
    "    \"epoch\" : (epoch,)}\n",
    "\n",
    "net_choice = \"linearSig\""
   ]
  },
  {
   "cell_type": "code",
   "execution_count": 18,
   "metadata": {},
   "outputs": [
    {
     "data": {
      "text/plain": [
       "<All keys matched successfully>"
      ]
     },
     "execution_count": 18,
     "metadata": {},
     "output_type": "execute_result"
    }
   ],
   "source": [
    "loss_fn = torch.nn.MSELoss(reduction='sum')\n",
    "optimizer = {}\n",
    "#print(getNetPath(net_choice, epoch, learnrate))\n",
    "checkpoint = torch.load(getNetPath(net_choice, epoch, learnrate))\n",
    "if \"metrics\" in checkpoint.keys(): \n",
    "    metrics = checkpoint[\"metrics\"]\n",
    "else:\n",
    "    metrics = {}\n",
    "    print(\"No metric found\")\n",
    "current_epoch = epoch\n",
    "optimizer[learnrate] = torch.optim.Adam(net[net_choice].parameters(), lr=learnrate)\n",
    "optimizer[learnrate].load_state_dict(checkpoint[\"optimizer_state_dict\"])\n",
    "net[net_choice].load_state_dict(checkpoint[\"net_state_dict\"])\n"
   ]
  },
  {
   "cell_type": "code",
   "execution_count": 53,
   "metadata": {},
   "outputs": [
    {
     "data": {
      "text/plain": [
       "<All keys matched successfully>"
      ]
     },
     "execution_count": 53,
     "metadata": {},
     "output_type": "execute_result"
    }
   ],
   "source": [
    "#Reset to state before training\n",
    "net[net_choice].load_state_dict(torch.load(getNetPath(net_choice, 0,0,original=True)))\n",
    "current_epoch = 0"
   ]
  },
  {
   "cell_type": "markdown",
   "metadata": {},
   "source": [
    "## Net properties"
   ]
  },
  {
   "cell_type": "code",
   "execution_count": 26,
   "metadata": {
    "collapsed": true
   },
   "outputs": [
    {
     "ename": "RuntimeError",
     "evalue": "mat1 and mat2 shapes cannot be multiplied (2x4096 and 3072x3072)",
     "output_type": "error",
     "traceback": [
      "\u001b[1;31m---------------------------------------------------------------------------\u001b[0m",
      "\u001b[1;31mRuntimeError\u001b[0m                              Traceback (most recent call last)",
      "\u001b[1;32m<ipython-input-26-c50ccb8f6dfa>\u001b[0m in \u001b[0;36m<module>\u001b[1;34m\u001b[0m\n\u001b[1;32m----> 1\u001b[1;33m \u001b[0msummary\u001b[0m\u001b[1;33m(\u001b[0m\u001b[0mnet\u001b[0m\u001b[1;33m[\u001b[0m\u001b[0mnet_choice\u001b[0m\u001b[1;33m]\u001b[0m\u001b[1;33m,\u001b[0m \u001b[0minput_size\u001b[0m\u001b[1;33m=\u001b[0m\u001b[1;33m(\u001b[0m\u001b[1;36m4\u001b[0m\u001b[1;33m,\u001b[0m\u001b[1;36m32\u001b[0m\u001b[1;33m,\u001b[0m\u001b[1;36m32\u001b[0m\u001b[1;33m)\u001b[0m\u001b[1;33m)\u001b[0m\u001b[1;33m\u001b[0m\u001b[1;33m\u001b[0m\u001b[0m\n\u001b[0m",
      "\u001b[1;32mD:\\Programme\\Anaconda\\lib\\site-packages\\torchsummary\\torchsummary.py\u001b[0m in \u001b[0;36msummary\u001b[1;34m(model, input_size, batch_size, device)\u001b[0m\n\u001b[0;32m     70\u001b[0m     \u001b[1;31m# make a forward pass\u001b[0m\u001b[1;33m\u001b[0m\u001b[1;33m\u001b[0m\u001b[1;33m\u001b[0m\u001b[0m\n\u001b[0;32m     71\u001b[0m     \u001b[1;31m# print(x.shape)\u001b[0m\u001b[1;33m\u001b[0m\u001b[1;33m\u001b[0m\u001b[1;33m\u001b[0m\u001b[0m\n\u001b[1;32m---> 72\u001b[1;33m     \u001b[0mmodel\u001b[0m\u001b[1;33m(\u001b[0m\u001b[1;33m*\u001b[0m\u001b[0mx\u001b[0m\u001b[1;33m)\u001b[0m\u001b[1;33m\u001b[0m\u001b[1;33m\u001b[0m\u001b[0m\n\u001b[0m\u001b[0;32m     73\u001b[0m \u001b[1;33m\u001b[0m\u001b[0m\n\u001b[0;32m     74\u001b[0m     \u001b[1;31m# remove these hooks\u001b[0m\u001b[1;33m\u001b[0m\u001b[1;33m\u001b[0m\u001b[1;33m\u001b[0m\u001b[0m\n",
      "\u001b[1;32mD:\\Programme\\Anaconda\\lib\\site-packages\\torch\\nn\\modules\\module.py\u001b[0m in \u001b[0;36m_call_impl\u001b[1;34m(self, *input, **kwargs)\u001b[0m\n\u001b[0;32m    725\u001b[0m             \u001b[0mresult\u001b[0m \u001b[1;33m=\u001b[0m \u001b[0mself\u001b[0m\u001b[1;33m.\u001b[0m\u001b[0m_slow_forward\u001b[0m\u001b[1;33m(\u001b[0m\u001b[1;33m*\u001b[0m\u001b[0minput\u001b[0m\u001b[1;33m,\u001b[0m \u001b[1;33m**\u001b[0m\u001b[0mkwargs\u001b[0m\u001b[1;33m)\u001b[0m\u001b[1;33m\u001b[0m\u001b[1;33m\u001b[0m\u001b[0m\n\u001b[0;32m    726\u001b[0m         \u001b[1;32melse\u001b[0m\u001b[1;33m:\u001b[0m\u001b[1;33m\u001b[0m\u001b[1;33m\u001b[0m\u001b[0m\n\u001b[1;32m--> 727\u001b[1;33m             \u001b[0mresult\u001b[0m \u001b[1;33m=\u001b[0m \u001b[0mself\u001b[0m\u001b[1;33m.\u001b[0m\u001b[0mforward\u001b[0m\u001b[1;33m(\u001b[0m\u001b[1;33m*\u001b[0m\u001b[0minput\u001b[0m\u001b[1;33m,\u001b[0m \u001b[1;33m**\u001b[0m\u001b[0mkwargs\u001b[0m\u001b[1;33m)\u001b[0m\u001b[1;33m\u001b[0m\u001b[1;33m\u001b[0m\u001b[0m\n\u001b[0m\u001b[0;32m    728\u001b[0m         for hook in itertools.chain(\n\u001b[0;32m    729\u001b[0m                 \u001b[0m_global_forward_hooks\u001b[0m\u001b[1;33m.\u001b[0m\u001b[0mvalues\u001b[0m\u001b[1;33m(\u001b[0m\u001b[1;33m)\u001b[0m\u001b[1;33m,\u001b[0m\u001b[1;33m\u001b[0m\u001b[1;33m\u001b[0m\u001b[0m\n",
      "\u001b[1;32m<ipython-input-20-da80211702d9>\u001b[0m in \u001b[0;36mforward\u001b[1;34m(self, x)\u001b[0m\n\u001b[0;32m      9\u001b[0m     \u001b[1;32mdef\u001b[0m \u001b[0mforward\u001b[0m\u001b[1;33m(\u001b[0m\u001b[0mself\u001b[0m\u001b[1;33m,\u001b[0m \u001b[0mx\u001b[0m\u001b[1;33m)\u001b[0m\u001b[1;33m:\u001b[0m\u001b[1;33m\u001b[0m\u001b[1;33m\u001b[0m\u001b[0m\n\u001b[0;32m     10\u001b[0m         \u001b[0mx\u001b[0m \u001b[1;33m=\u001b[0m \u001b[0mx\u001b[0m\u001b[1;33m.\u001b[0m\u001b[0mview\u001b[0m\u001b[1;33m(\u001b[0m\u001b[0mx\u001b[0m\u001b[1;33m.\u001b[0m\u001b[0msize\u001b[0m\u001b[1;33m(\u001b[0m\u001b[1;36m0\u001b[0m\u001b[1;33m)\u001b[0m\u001b[1;33m,\u001b[0m\u001b[1;33m-\u001b[0m\u001b[1;36m1\u001b[0m\u001b[1;33m)\u001b[0m\u001b[1;33m\u001b[0m\u001b[1;33m\u001b[0m\u001b[0m\n\u001b[1;32m---> 11\u001b[1;33m         \u001b[0mx\u001b[0m \u001b[1;33m=\u001b[0m \u001b[0mself\u001b[0m\u001b[1;33m.\u001b[0m\u001b[0mfc1\u001b[0m\u001b[1;33m(\u001b[0m\u001b[0mx\u001b[0m\u001b[1;33m)\u001b[0m\u001b[1;33m\u001b[0m\u001b[1;33m\u001b[0m\u001b[0m\n\u001b[0m\u001b[0;32m     12\u001b[0m         \u001b[0mx\u001b[0m \u001b[1;33m=\u001b[0m \u001b[0mF\u001b[0m\u001b[1;33m.\u001b[0m\u001b[0mrelu\u001b[0m\u001b[1;33m(\u001b[0m\u001b[0mx\u001b[0m\u001b[1;33m)\u001b[0m\u001b[1;33m\u001b[0m\u001b[1;33m\u001b[0m\u001b[0m\n\u001b[0;32m     13\u001b[0m         \u001b[0mx\u001b[0m \u001b[1;33m=\u001b[0m \u001b[0mself\u001b[0m\u001b[1;33m.\u001b[0m\u001b[0mfc2\u001b[0m\u001b[1;33m(\u001b[0m\u001b[0mx\u001b[0m\u001b[1;33m)\u001b[0m\u001b[1;33m\u001b[0m\u001b[1;33m\u001b[0m\u001b[0m\n",
      "\u001b[1;32mD:\\Programme\\Anaconda\\lib\\site-packages\\torch\\nn\\modules\\module.py\u001b[0m in \u001b[0;36m_call_impl\u001b[1;34m(self, *input, **kwargs)\u001b[0m\n\u001b[0;32m    725\u001b[0m             \u001b[0mresult\u001b[0m \u001b[1;33m=\u001b[0m \u001b[0mself\u001b[0m\u001b[1;33m.\u001b[0m\u001b[0m_slow_forward\u001b[0m\u001b[1;33m(\u001b[0m\u001b[1;33m*\u001b[0m\u001b[0minput\u001b[0m\u001b[1;33m,\u001b[0m \u001b[1;33m**\u001b[0m\u001b[0mkwargs\u001b[0m\u001b[1;33m)\u001b[0m\u001b[1;33m\u001b[0m\u001b[1;33m\u001b[0m\u001b[0m\n\u001b[0;32m    726\u001b[0m         \u001b[1;32melse\u001b[0m\u001b[1;33m:\u001b[0m\u001b[1;33m\u001b[0m\u001b[1;33m\u001b[0m\u001b[0m\n\u001b[1;32m--> 727\u001b[1;33m             \u001b[0mresult\u001b[0m \u001b[1;33m=\u001b[0m \u001b[0mself\u001b[0m\u001b[1;33m.\u001b[0m\u001b[0mforward\u001b[0m\u001b[1;33m(\u001b[0m\u001b[1;33m*\u001b[0m\u001b[0minput\u001b[0m\u001b[1;33m,\u001b[0m \u001b[1;33m**\u001b[0m\u001b[0mkwargs\u001b[0m\u001b[1;33m)\u001b[0m\u001b[1;33m\u001b[0m\u001b[1;33m\u001b[0m\u001b[0m\n\u001b[0m\u001b[0;32m    728\u001b[0m         for hook in itertools.chain(\n\u001b[0;32m    729\u001b[0m                 \u001b[0m_global_forward_hooks\u001b[0m\u001b[1;33m.\u001b[0m\u001b[0mvalues\u001b[0m\u001b[1;33m(\u001b[0m\u001b[1;33m)\u001b[0m\u001b[1;33m,\u001b[0m\u001b[1;33m\u001b[0m\u001b[1;33m\u001b[0m\u001b[0m\n",
      "\u001b[1;32mD:\\Programme\\Anaconda\\lib\\site-packages\\torch\\nn\\modules\\linear.py\u001b[0m in \u001b[0;36mforward\u001b[1;34m(self, input)\u001b[0m\n\u001b[0;32m     91\u001b[0m \u001b[1;33m\u001b[0m\u001b[0m\n\u001b[0;32m     92\u001b[0m     \u001b[1;32mdef\u001b[0m \u001b[0mforward\u001b[0m\u001b[1;33m(\u001b[0m\u001b[0mself\u001b[0m\u001b[1;33m,\u001b[0m \u001b[0minput\u001b[0m\u001b[1;33m:\u001b[0m \u001b[0mTensor\u001b[0m\u001b[1;33m)\u001b[0m \u001b[1;33m->\u001b[0m \u001b[0mTensor\u001b[0m\u001b[1;33m:\u001b[0m\u001b[1;33m\u001b[0m\u001b[1;33m\u001b[0m\u001b[0m\n\u001b[1;32m---> 93\u001b[1;33m         \u001b[1;32mreturn\u001b[0m \u001b[0mF\u001b[0m\u001b[1;33m.\u001b[0m\u001b[0mlinear\u001b[0m\u001b[1;33m(\u001b[0m\u001b[0minput\u001b[0m\u001b[1;33m,\u001b[0m \u001b[0mself\u001b[0m\u001b[1;33m.\u001b[0m\u001b[0mweight\u001b[0m\u001b[1;33m,\u001b[0m \u001b[0mself\u001b[0m\u001b[1;33m.\u001b[0m\u001b[0mbias\u001b[0m\u001b[1;33m)\u001b[0m\u001b[1;33m\u001b[0m\u001b[1;33m\u001b[0m\u001b[0m\n\u001b[0m\u001b[0;32m     94\u001b[0m \u001b[1;33m\u001b[0m\u001b[0m\n\u001b[0;32m     95\u001b[0m     \u001b[1;32mdef\u001b[0m \u001b[0mextra_repr\u001b[0m\u001b[1;33m(\u001b[0m\u001b[0mself\u001b[0m\u001b[1;33m)\u001b[0m \u001b[1;33m->\u001b[0m \u001b[0mstr\u001b[0m\u001b[1;33m:\u001b[0m\u001b[1;33m\u001b[0m\u001b[1;33m\u001b[0m\u001b[0m\n",
      "\u001b[1;32mD:\\Programme\\Anaconda\\lib\\site-packages\\torch\\nn\\functional.py\u001b[0m in \u001b[0;36mlinear\u001b[1;34m(input, weight, bias)\u001b[0m\n\u001b[0;32m   1688\u001b[0m     \u001b[1;32mif\u001b[0m \u001b[0minput\u001b[0m\u001b[1;33m.\u001b[0m\u001b[0mdim\u001b[0m\u001b[1;33m(\u001b[0m\u001b[1;33m)\u001b[0m \u001b[1;33m==\u001b[0m \u001b[1;36m2\u001b[0m \u001b[1;32mand\u001b[0m \u001b[0mbias\u001b[0m \u001b[1;32mis\u001b[0m \u001b[1;32mnot\u001b[0m \u001b[1;32mNone\u001b[0m\u001b[1;33m:\u001b[0m\u001b[1;33m\u001b[0m\u001b[1;33m\u001b[0m\u001b[0m\n\u001b[0;32m   1689\u001b[0m         \u001b[1;31m# fused op is marginally faster\u001b[0m\u001b[1;33m\u001b[0m\u001b[1;33m\u001b[0m\u001b[1;33m\u001b[0m\u001b[0m\n\u001b[1;32m-> 1690\u001b[1;33m         \u001b[0mret\u001b[0m \u001b[1;33m=\u001b[0m \u001b[0mtorch\u001b[0m\u001b[1;33m.\u001b[0m\u001b[0maddmm\u001b[0m\u001b[1;33m(\u001b[0m\u001b[0mbias\u001b[0m\u001b[1;33m,\u001b[0m \u001b[0minput\u001b[0m\u001b[1;33m,\u001b[0m \u001b[0mweight\u001b[0m\u001b[1;33m.\u001b[0m\u001b[0mt\u001b[0m\u001b[1;33m(\u001b[0m\u001b[1;33m)\u001b[0m\u001b[1;33m)\u001b[0m\u001b[1;33m\u001b[0m\u001b[1;33m\u001b[0m\u001b[0m\n\u001b[0m\u001b[0;32m   1691\u001b[0m     \u001b[1;32melse\u001b[0m\u001b[1;33m:\u001b[0m\u001b[1;33m\u001b[0m\u001b[1;33m\u001b[0m\u001b[0m\n\u001b[0;32m   1692\u001b[0m         \u001b[0moutput\u001b[0m \u001b[1;33m=\u001b[0m \u001b[0minput\u001b[0m\u001b[1;33m.\u001b[0m\u001b[0mmatmul\u001b[0m\u001b[1;33m(\u001b[0m\u001b[0mweight\u001b[0m\u001b[1;33m.\u001b[0m\u001b[0mt\u001b[0m\u001b[1;33m(\u001b[0m\u001b[1;33m)\u001b[0m\u001b[1;33m)\u001b[0m\u001b[1;33m\u001b[0m\u001b[1;33m\u001b[0m\u001b[0m\n",
      "\u001b[1;31mRuntimeError\u001b[0m: mat1 and mat2 shapes cannot be multiplied (2x4096 and 3072x3072)"
     ]
    }
   ],
   "source": [
    "summary(net[net_choice], input_size=(4,32,32))"
   ]
  },
  {
   "cell_type": "code",
   "execution_count": 27,
   "metadata": {},
   "outputs": [
    {
     "data": {
      "text/plain": [
       "LinearSigNet(\n",
       "  (fc1): Linear(in_features=3072, out_features=3072, bias=True)\n",
       "  (fc2): Linear(in_features=3072, out_features=2, bias=True)\n",
       ")"
      ]
     },
     "execution_count": 27,
     "metadata": {},
     "output_type": "execute_result"
    }
   ],
   "source": [
    "net[net_choice]"
   ]
  },
  {
   "cell_type": "markdown",
   "metadata": {},
   "source": [
    "## Metriken"
   ]
  },
  {
   "cell_type": "code",
   "execution_count": null,
   "metadata": {},
   "outputs": [],
   "source": [
    "import matplotlib.pyplot as plt"
   ]
  },
  {
   "cell_type": "markdown",
   "metadata": {},
   "source": [
    "### Bias "
   ]
  },
  {
   "cell_type": "code",
   "execution_count": 29,
   "metadata": {},
   "outputs": [
    {
     "name": "stdout",
     "output_type": "stream",
     "text": [
      "Training: 0.0007012143000938522, Validation: 0.02302990819979459, Test: 0.020292832299135626\n"
     ]
    }
   ],
   "source": [
    "#Linear net\n",
    "train_score = score(\"train\")\n",
    "validation_score = score(\"validate\")\n",
    "test_score = score(\"test\")\n",
    "print(f\"Training: {train_score}, Validation: {validation_score}, Test: {test_score}\")"
   ]
  },
  {
   "cell_type": "code",
   "execution_count": 37,
   "metadata": {},
   "outputs": [
    {
     "name": "stdout",
     "output_type": "stream",
     "text": [
      "Training: 0.0014718312549248367, Validation: 0.0071511474107392135, Test: 0.007650388136971742\n"
     ]
    }
   ],
   "source": [
    "#LinearSig net\n",
    "train_score = score(\"train\")\n",
    "validation_score = score(\"validate\")\n",
    "test_score = score(\"test\")\n",
    "print(f\"Training: {train_score}, Validation: {validation_score}, Test: {test_score}\")"
   ]
  },
  {
   "cell_type": "code",
   "execution_count": 25,
   "metadata": {},
   "outputs": [
    {
     "name": "stdout",
     "output_type": "stream",
     "text": [
      "Training: 0.00028738852276001124, Validation: 0.0017345703765749931, Test: 0.001850445531308651\n"
     ]
    }
   ],
   "source": [
    "#LinearSig net Big Batch\n",
    "train_score = score(\"train\")\n",
    "validation_score = score(\"validate\")\n",
    "test_score = score(\"test\")\n",
    "print(f\"Training: {train_score}, Validation: {validation_score}, Test: {test_score}\")"
   ]
  },
  {
   "cell_type": "code",
   "execution_count": 51,
   "metadata": {},
   "outputs": [
    {
     "data": {
      "image/png": "[encoded data removed]",
      "text/plain": [
       "<Figure size 432x288 with 1 Axes>"
      ]
     },
     "metadata": {
      "needs_background": "light"
     },
     "output_type": "display_data"
    }
   ],
   "source": [
    "x_validation = []\n",
    "y_validation = []\n",
    "x_train = []\n",
    "y_train = []\n",
    "for epoch, learnrate, mode in metrics.keys():\n",
    "    if mode == \"validation_loss\":\n",
    "        x_validation.append(epoch)\n",
    "        y_validation.extend(metrics[(epoch, learnrate, mode)])\n",
    "    if mode == \"running_loss\":\n",
    "        x_train.extend([i / 9 + (epoch-1) for i in range(10)])\n",
    "        y_train.extend(metrics[(epoch, learnrate, mode)])\n",
    "y_train = np.array(y_train)\n",
    "y_validation = np.array(y_validation)\n",
    "plt.xlabel(\"Epochs\")\n",
    "plt.ylabel(\"Loss\")\n",
    "plt.title(f\"Learnrate: {learnrate}\")\n",
    "plt.plot(x_validation, (y_validation - y_validation[0] + y_train[0]),label=f\"Validation shifted: {y_train[0] - y_validation[0]}\")\n",
    "plt.plot(x_train, y_train, label=f\"Train\")\n",
    "plt.legend(loc='best')\n",
    "plt.show()"
   ]
  },
  {
   "cell_type": "code",
   "execution_count": 50,
   "metadata": {},
   "outputs": [
    {
     "data": {
      "text/plain": [
       "{(1, 1e-05, 'running_loss'): [0.0002869400195777416,\n",
       "  0.0003260392416268587,\n",
       "  0.00032970433356240393,\n",
       "  0.0002765155164524913,\n",
       "  0.00029745625448413193,\n",
       "  0.0003329000365920365,\n",
       "  0.0002393505279906094,\n",
       "  0.00034661372425034645,\n",
       "  0.00023652991629205644,\n",
       "  0.00035037171095609666],\n",
       " (1, 1e-05, 'validation_loss'): [0.00174086157605052],\n",
       " (2, 1e-05, 'running_loss'): [0.0002582090860232711,\n",
       "  0.00028090662672184406,\n",
       "  0.0002395750256255269,\n",
       "  0.0002988600730895996,\n",
       "  0.00026450160657987,\n",
       "  0.0003802917758002877,\n",
       "  0.000283859051996842,\n",
       "  0.00026973261730745435,\n",
       "  0.00031970170326530936,\n",
       "  0.00032864104956388475],\n",
       " (2, 1e-05, 'validation_loss'): [0.0017346212342381478],\n",
       " (3, 1e-05, 'running_loss'): [0.00040248190402053296,\n",
       "  0.0002993106539361179,\n",
       "  0.0002998688747175038,\n",
       "  0.0003083291184157133,\n",
       "  0.000390523080714047,\n",
       "  0.00026123977964743973,\n",
       "  0.00026204619207419454,\n",
       "  0.00037500335136428473,\n",
       "  0.0003211103705689311,\n",
       "  0.00019758756854571403],\n",
       " (3, 1e-05, 'validation_loss'): [0.0017368271872401238],\n",
       " (4, 1e-05, 'running_loss'): [0.00031665475573390724,\n",
       "  0.0003225483256392181,\n",
       "  0.00027477795025333763,\n",
       "  0.0002632630057632923,\n",
       "  0.0002542293793521822,\n",
       "  0.0003513235575519502,\n",
       "  0.0003241955570410937,\n",
       "  0.00031083041336387395,\n",
       "  0.00039911157335154713,\n",
       "  0.0002332649566233158],\n",
       " (4, 1e-05, 'validation_loss'): [0.0017345703765749931]}"
      ]
     },
     "execution_count": 50,
     "metadata": {},
     "output_type": "execute_result"
    }
   ],
   "source": [
    "metrics"
   ]
  },
  {
   "cell_type": "markdown",
   "metadata": {},
   "source": [
    "### Distance"
   ]
  },
  {
   "cell_type": "code",
   "execution_count": 89,
   "metadata": {},
   "outputs": [],
   "source": [
    "distance_test = binomialScore(\"test\")\n",
    "distance_train = binomialScore(\"train\")\n",
    "distance_validation = binomialScore(\"validate\")"
   ]
  },
  {
   "cell_type": "code",
   "execution_count": 93,
   "metadata": {},
   "outputs": [
    {
     "data": {
      "image/png": "[encoded data removed]",
      "text/plain": [
       "<Figure size 432x288 with 1 Axes>"
      ]
     },
     "metadata": {
      "needs_background": "light"
     },
     "output_type": "display_data"
    }
   ],
   "source": [
    "plt.xlabel(\"Distance [pixel]\")\n",
    "plt.ylabel(\"Amount / Total\")\n",
    "plt.title(f\"Learnrate: {learnrate}, Epoch {current_epoch}\")\n",
    "plt.bar(list(distance_train.keys()), list(distance_train.values()),label=f\"Train set\")\n",
    "plt.bar(list(distance_validation.keys()), list(distance_validation.values()),label=f\"Validation set\")\n",
    "plt.bar(list(distance_test.keys()), list(distance_test.values()),label=f\"Test set\")\n",
    "plt.legend(loc='best')\n",
    "plt.show()"
   ]
  },
  {
   "cell_type": "code",
   "execution_count": null,
   "metadata": {},
   "outputs": [],
   "source": []
  }
 ],
 "metadata": {
  "kernelspec": {
   "display_name": "Python 3",
   "language": "python",
   "name": "python3"
  },
  "language_info": {
   "codemirror_mode": {
    "name": "ipython",
    "version": 3
   },
   "file_extension": ".py",
   "mimetype": "text/x-python",
   "name": "python",
   "nbconvert_exporter": "python",
   "pygments_lexer": "ipython3",
   "version": "3.8.3"
  },
  "toc": {
   "base_numbering": 1,
   "nav_menu": {},
   "number_sections": true,
   "sideBar": true,
   "skip_h1_title": false,
   "title_cell": "Table of Contents",
   "title_sidebar": "Contents",
   "toc_cell": false,
   "toc_position": {
    "height": "calc(100% - 180px)",
    "left": "10px",
    "top": "150px",
    "width": "294.4px"
   },
   "toc_section_display": true,
   "toc_window_display": true
  }
 },
 "nbformat": 4,
 "nbformat_minor": 4
}
