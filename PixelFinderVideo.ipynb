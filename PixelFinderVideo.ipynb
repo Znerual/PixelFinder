{
 "cells": [
  {
   "cell_type": "code",
   "execution_count": 5,
   "id": "c2de8555",
   "metadata": {},
   "outputs": [],
   "source": [
    "import numpy as np\n",
    "import cv2\n",
    "import math"
   ]
  },
  {
   "cell_type": "code",
   "execution_count": 244,
   "id": "f35d5eed",
   "metadata": {},
   "outputs": [],
   "source": [
    "def create_test_video(duration=5):\n",
    "    video_name = \"test2.avi\"\n",
    "    para = getVideoParameter()\n",
    "    video = cv2.VideoWriter(video_name, para[\"codec\"], para[\"fps\"], (para[\"width\"], para[\"height\"]))\n",
    "    pos = np.array([0,0])\n",
    "    vel = np.array([10,10])\n",
    "    w = 20\n",
    "    for i in range(int(duration*para[\"fps\"])):\n",
    "        frame = np.zeros((para[\"height\"], para[\"width\"],3), dtype = np.uint8)\n",
    "        x = min(pos[0], para[\"width\"]-1-w)\n",
    "        y = min(pos[1], para[\"height\"]-1-w)\n",
    "        frame[y:y+w, x:x+w,:] = np.random.randint(0,255,size=(w,w,3), dtype = np.uint8)\n",
    "        if pos[0] + vel[0] >= para[\"width\"] or pos[1] + vel[1] >= para[\"height\"]:\n",
    "            vel *= -1\n",
    "            w += 10\n",
    "        elif pos[0] + vel[0] < 0 or pos[1] + vel[1] < 0:\n",
    "            vel *= -1\n",
    "            w -= 10\n",
    "        w %= int(min(para[\"width\"]/2, para[\"height\"]/2))\n",
    "        pos += vel\n",
    "       \n",
    "        #print(f\"pos:{pos}, vel:{vel}\")\n",
    "        vel += np.random.randint(-1,2,size=(2,))\n",
    "        video.write(frame)\n",
    "        #print(f\"pos:{pos}, vel:{vel}\")\n",
    "        \n",
    "    video.release()\n",
    "    cv2.destroyAllWindows()\n",
    "    return video_name\n",
    "\n",
    "def create_circular_video(duration=5):\n",
    "    video_name = \"circle.avi\"\n",
    "    para = getVideoParameter()\n",
    "    video = cv2.VideoWriter(video_name, para[\"codec\"], para[\"fps\"], (para[\"width\"], para[\"height\"]))\n",
    "    phi = 0.0\n",
    "    r = 500\n",
    "    mid = np.array([para[\"width\"]/2, para[\"height\"]/2], dtype=np.int)\n",
    "    dphi = (2.0 * np.pi) / int(duration*para[\"fps\"])\n",
    "    w = 20\n",
    "    for i in range(int(duration*para[\"fps\"])):\n",
    "        frame = np.zeros((para[\"height\"], para[\"width\"],3), dtype = np.uint8)\n",
    "        noise = np.random.randint(0,100,size=(para[\"height\"], para[\"width\"],3), dtype=np.uint8)\n",
    "        frame += noise\n",
    "        pos = polar_eucl(r, phi) + mid\n",
    "        frame[pos[1]:pos[1]+w, pos[0]:pos[0]+w,:] = np.random.randint(0,255,size=(w,w,3), dtype = np.uint8)\n",
    "        frame[mid[1]-25:mid[1]+25, mid[0]-25:mid[0]+25,:] = np.full((50,50,3),255, dtype=np.uint8)\n",
    "        frame[0:50, 0:50,:] = np.full((50,50,3), 200, dtype=np.uint8)\n",
    "        frame[para[\"height\"]-51:para[\"height\"]-1, para[\"width\"]-51:para[\"width\"]-1,:]  = np.full((50,50,3), 170, dtype=np.uint8)\n",
    "        phi += dphi\n",
    "        video.write(frame)\n",
    "        \n",
    "    video.release()\n",
    "    cv2.destroyAllWindows()\n",
    "    return video_name"
   ]
  },
  {
   "cell_type": "code",
   "execution_count": 239,
   "id": "f62e49e0",
   "metadata": {},
   "outputs": [],
   "source": [
    "def getVideoParameter():\n",
    "    return {\"codec\" : cv2.VideoWriter_fourcc('M','J','P','G'),\n",
    "            \"fps\" : 30.0,\n",
    "            \"width\" : 1920,\n",
    "            \"height\" : 1080,\n",
    "           \"color\": True}\n",
    "def show_video(video_name):\n",
    "    cap = cv2.VideoCapture(video_name)\n",
    "    #amount_of_frames = cap.get(cv2.CV_CAP_PROP_FRAME_COUNT)\n",
    "    #cap.set(1, frame_number-1)\n",
    "    fps = cap.get(cv2.CAP_PROP_FPS)\n",
    "    if (not cap.isOpened()): \n",
    "        print(\"ERROR while opening\")\n",
    "    while(cap.isOpened()):\n",
    "        ret, frame = cap.read()\n",
    "        if ret == True:\n",
    "            cv2.imshow('Frame',frame)\n",
    "            if cv2.waitKey(int(1000/ fps)) & 0xFF == ord('q'):\n",
    "                break\n",
    "        else:\n",
    "            break\n",
    "    cap.release()\n",
    "    cv2.destroyAllWindows()\n",
    "    "
   ]
  },
  {
   "cell_type": "code",
   "execution_count": 183,
   "id": "4b284af0",
   "metadata": {},
   "outputs": [],
   "source": [
    "def polar_eucl(r,phi):\n",
    "    return np.array([r*np.cos(phi), r*np.sin(phi)], dtype=np.int)\n",
    "def grad_rad(grad):\n",
    "    return np.pi/180.0 * grad"
   ]
  },
  {
   "cell_type": "code",
   "execution_count": 170,
   "id": "94e2fff7",
   "metadata": {},
   "outputs": [],
   "source": [
    "test_video = create_test_video(30)\n"
   ]
  },
  {
   "cell_type": "code",
   "execution_count": 245,
   "id": "962245be",
   "metadata": {},
   "outputs": [],
   "source": [
    "circle = create_circular_video(10)"
   ]
  },
  {
   "cell_type": "code",
   "execution_count": 246,
   "id": "9b8fbde7",
   "metadata": {},
   "outputs": [],
   "source": [
    "show_video(circle)"
   ]
  },
  {
   "cell_type": "code",
   "execution_count": null,
   "id": "4b7d4603",
   "metadata": {},
   "outputs": [],
   "source": []
  }
 ],
 "metadata": {
  "kernelspec": {
   "display_name": "Python 3",
   "language": "python",
   "name": "python3"
  },
  "language_info": {
   "codemirror_mode": {
    "name": "ipython",
    "version": 3
   },
   "file_extension": ".py",
   "mimetype": "text/x-python",
   "name": "python",
   "nbconvert_exporter": "python",
   "pygments_lexer": "ipython3",
   "version": "3.7.10"
  },
  "toc": {
   "base_numbering": 1,
   "nav_menu": {},
   "number_sections": true,
   "sideBar": true,
   "skip_h1_title": false,
   "title_cell": "Table of Contents",
   "title_sidebar": "Contents",
   "toc_cell": false,
   "toc_position": {},
   "toc_section_display": true,
   "toc_window_display": false
  }
 },
 "nbformat": 4,
 "nbformat_minor": 5
}
